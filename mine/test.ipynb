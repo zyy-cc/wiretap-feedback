{
 "cells": [
  {
   "cell_type": "code",
   "execution_count": 1,
   "metadata": {},
   "outputs": [
    {
     "name": "stdout",
     "output_type": "stream",
     "text": [
      "cuda\n"
     ]
    }
   ],
   "source": [
    "import torch\n",
    "import numpy as np\n",
    "import matplotlib.pyplot as plt\n",
    "from datasets import MultivariateNormalDataset\n",
    "device = 'cuda' if torch.cuda.is_available() else 'cpu'\n",
    "num_gpus = 1 if device=='cuda' else 0\n",
    "print(device)"
   ]
  },
  {
   "cell_type": "code",
   "execution_count": null,
   "metadata": {},
   "outputs": [
    {
     "name": "stdout",
     "output_type": "stream",
     "text": [
      "The autoreload extension is already loaded. To reload it, use:\n",
      "  %reload_ext autoreload\n"
     ]
    },
    {
     "ename": "ModuleNotFoundError",
     "evalue": "No module named 'mine'",
     "output_type": "error",
     "traceback": [
      "\u001b[0;31m---------------------------------------------------------------------------\u001b[0m",
      "\u001b[0;31mModuleNotFoundError\u001b[0m                       Traceback (most recent call last)",
      "Cell \u001b[0;32mIn[3], line 3\u001b[0m\n\u001b[1;32m      1\u001b[0m get_ipython()\u001b[38;5;241m.\u001b[39mrun_line_magic(\u001b[38;5;124m'\u001b[39m\u001b[38;5;124mload_ext\u001b[39m\u001b[38;5;124m'\u001b[39m, \u001b[38;5;124m'\u001b[39m\u001b[38;5;124mautoreload\u001b[39m\u001b[38;5;124m'\u001b[39m)\n\u001b[1;32m      2\u001b[0m get_ipython()\u001b[38;5;241m.\u001b[39mrun_line_magic(\u001b[38;5;124m'\u001b[39m\u001b[38;5;124mautoreload\u001b[39m\u001b[38;5;124m'\u001b[39m, \u001b[38;5;124m'\u001b[39m\u001b[38;5;124m2\u001b[39m\u001b[38;5;124m'\u001b[39m)\n\u001b[0;32m----> 3\u001b[0m \u001b[38;5;28;01mfrom\u001b[39;00m \u001b[38;5;21;01mmodels\u001b[39;00m \u001b[38;5;28;01mimport\u001b[39;00m mine\n\u001b[1;32m      4\u001b[0m \u001b[38;5;66;03m# from models.mine import MutualInformationEstimator\u001b[39;00m\n\u001b[1;32m      5\u001b[0m \u001b[38;5;28;01mfrom\u001b[39;00m \u001b[38;5;21;01mpytorch_lightning\u001b[39;00m \u001b[38;5;28;01mimport\u001b[39;00m Trainer\n",
      "File \u001b[0;32m/data/bc_new/modified_bc/wiretap/mine/models/mine.py:12\u001b[0m\n\u001b[1;32m      9\u001b[0m \u001b[38;5;28;01mfrom\u001b[39;00m \u001b[38;5;21;01mtorchvision\u001b[39;00m \u001b[38;5;28;01mimport\u001b[39;00m datasets\n\u001b[1;32m     10\u001b[0m \u001b[38;5;28;01mfrom\u001b[39;00m \u001b[38;5;21;01mtorchvision\u001b[39;00m\u001b[38;5;21;01m.\u001b[39;00m\u001b[38;5;21;01mtransforms\u001b[39;00m \u001b[38;5;28;01mimport\u001b[39;00m transforms\n\u001b[0;32m---> 12\u001b[0m \u001b[38;5;28;01mfrom\u001b[39;00m \u001b[38;5;21;01mmine\u001b[39;00m\u001b[38;5;21;01m.\u001b[39;00m\u001b[38;5;21;01mmodels\u001b[39;00m\u001b[38;5;21;01m.\u001b[39;00m\u001b[38;5;21;01mgan\u001b[39;00m \u001b[38;5;28;01mimport\u001b[39;00m GAN\n\u001b[1;32m     14\u001b[0m \u001b[38;5;28;01mfrom\u001b[39;00m \u001b[38;5;21;01mmine\u001b[39;00m\u001b[38;5;21;01m.\u001b[39;00m\u001b[38;5;21;01mdatasets\u001b[39;00m \u001b[38;5;28;01mimport\u001b[39;00m FunctionDataset, MultivariateNormalDataset\n\u001b[1;32m     15\u001b[0m \u001b[38;5;28;01mfrom\u001b[39;00m \u001b[38;5;21;01mmine\u001b[39;00m\u001b[38;5;21;01m.\u001b[39;00m\u001b[38;5;21;01mmodels\u001b[39;00m\u001b[38;5;21;01m.\u001b[39;00m\u001b[38;5;21;01mlayers\u001b[39;00m \u001b[38;5;28;01mimport\u001b[39;00m ConcatLayer, CustomSequential\n",
      "\u001b[0;31mModuleNotFoundError\u001b[0m: No module named 'mine'"
     ]
    }
   ],
   "source": [
    "%load_ext autoreload\n",
    "%autoreload 2\n",
    "# from models import mine\n",
    "from models.mine import MutualInformationEstimator\n",
    "from pytorch_lightning import Trainer\n",
    "import logging\n",
    "logging.getLogger().setLevel(logging.ERROR)\n",
    "\n",
    "dim = 1\n",
    "N = 3000\n",
    "lr = 1e-4\n",
    "epochs = 200\n",
    "batch_size = 500\n",
    "\n",
    "steps = 15\n",
    "rhos = np.linspace(-0.99, 0.99, steps)\n",
    "loss_type = ['mine_biased']\n",
    "\n",
    "results_dict = dict()\n",
    "\n",
    "for loss in loss_type:\n",
    "    results = []\n",
    "    for rho in rhos:\n",
    "        train_loader = torch.utils.data.DataLoader(\n",
    "        MultivariateNormalDataset(N, dim, rho), batch_size=batch_size, shuffle=True)\n",
    "        test_loader = torch.utils.data.DataLoader(\n",
    "        MultivariateNormalDataset(N, dim, rho), batch_size=batch_size, shuffle=True)\n",
    "\n",
    "        \n",
    "        true_mi = train_loader.dataset.true_mi\n",
    "\n",
    "        kwargs = {\n",
    "            'lr': lr,\n",
    "            'batch_size': batch_size,\n",
    "            'train_loader': train_loader,\n",
    "            'test_loader': test_loader,\n",
    "            'alpha': 1.0\n",
    "        }\n",
    "\n",
    "        model = MutualInformationEstimator(\n",
    "            dim, dim, loss=loss, **kwargs).to(device)\n",
    "        \n",
    "        trainer = Trainer(max_epochs=epochs, early_stop_callback=False, gpus=num_gpus)\n",
    "        trainer.fit(model)\n",
    "        trainer.test()\n",
    "\n",
    "        print(\"True_mi {}\".format(true_mi))\n",
    "        print(\"MINE {}\".format(model.avg_test_mi))\n",
    "        results.append((rho, model.avg_test_mi, true_mi))\n",
    "\n",
    "    results = np.array(results)\n",
    "    results_dict[loss] = results"
   ]
  },
  {
   "cell_type": "code",
   "execution_count": null,
   "metadata": {},
   "outputs": [],
   "source": []
  }
 ],
 "metadata": {
  "kernelspec": {
   "display_name": "Python 3 (ipykernel)",
   "language": "python",
   "name": "python3"
  },
  "language_info": {
   "codemirror_mode": {
    "name": "ipython",
    "version": 3
   },
   "file_extension": ".py",
   "mimetype": "text/x-python",
   "name": "python",
   "nbconvert_exporter": "python",
   "pygments_lexer": "ipython3",
   "version": "3.10.12"
  }
 },
 "nbformat": 4,
 "nbformat_minor": 2
}
